{
 "cells": [
  {
   "cell_type": "markdown",
   "id": "b7356163-7dd2-42fe-9599-a7d9fe6f23b0",
   "metadata": {},
   "source": [
    "#  Make Tournament CSV"
   ]
  },
  {
   "cell_type": "code",
   "execution_count": null,
   "id": "39b8eabc-f2d2-4cd5-b2ec-242701abbf1b",
   "metadata": {},
   "outputs": [],
   "source": [
    "from tqdm import tqdm\n",
    "import pandas as pd\n",
    "from datetime import datetime\n",
    "import requests\n",
    "\n",
    "def get_data(player_id, page, PER_PAGE=490):\n",
    "    # URL of the GraphQL endpoint\n",
    "    url = 'https://api.start.gg/gql/alpha'\n",
    "    \n",
    "    # The GraphQL query\n",
    "    query = \"\"\"\n",
    "      query PlayerQuery {\n",
    "      player(id: \"{player_id}\") {\n",
    "        id\n",
    "        gamerTag\n",
    "        sets(page: {page}, perPage: 490) {\n",
    "          nodes {\n",
    "            event {\n",
    "              tournament {\n",
    "                slug\n",
    "                startAt\n",
    "              }\n",
    "            }\n",
    "          }\n",
    "        }\n",
    "      }\n",
    "    }\"\"\".replace('{page}', str(page)).replace('{player_id}', str(player_id))\n",
    "    \n",
    "    # Headers (if needed, e.g., for authentication)\n",
    "    headers = {\n",
    "        'Content-Type': 'application/json',\n",
    "        'Authorization': 'Bearer <TOKEN>'  # if authentication is needed\n",
    "    }\n",
    "    \n",
    "    # Sending the request\n",
    "    response = requests.post(url, json={'query': query}, headers=headers)\n",
    "    \n",
    "    result = response.json()\n",
    "\n",
    "    return result\n",
    "\n",
    "\n",
    "def get_events(result):\n",
    "    events = result['data']['player']['sets']['nodes']\n",
    "    events = [event['event']['tournament'] for event in events]\n",
    "    return events\n",
    "\n",
    "def get_datetime(timestamp):\n",
    "    # Convert timestamp to datetime object\n",
    "    datetime_object = datetime.fromtimestamp(timestamp)\n",
    "    \n",
    "    # Format datetime object as a readable string\n",
    "    readable_date_time = datetime_object.strftime(\"%Y-%m\")\n",
    "    \n",
    "    return readable_date_time\n",
    "\n",
    "def make_df(gamertag, events):\n",
    "    df = pd.DataFrame(events)\n",
    "    df = df.drop_duplicates().reset_index(drop=True)\n",
    "    df.startAt = df.startAt.map(lambda ts: get_datetime(ts))\n",
    "    df['gamertag'] = gamertag\n",
    "    reordered_df = df[['gamertag', 'slug', 'startAt']]\n",
    "    return reordered_df\n",
    "\n",
    "def get_all_events(player_id):\n",
    "    page = 1\n",
    "    all_events = []\n",
    "    while True:\n",
    "        # print('page', page)\n",
    "        result = get_data(player_id, page)\n",
    "        events = get_events(result)\n",
    "        if events == []:\n",
    "            break\n",
    "        all_events.extend(events)\n",
    "        page += 1\n",
    "    return all_events\n",
    "\n",
    "players = [\n",
    "    {\"gamertag\": \"Tweek\", \"id\": 15768},\n",
    "    {\"gamertag\": \"MkLeo\", \"id\": 222927},\n",
    "    {\"gamertag\": \"Sparg0\", \"id\": 158026},\n",
    "    {\"gamertag\": \"Light\", \"id\": 158871},\n",
    "    {\"gamertag\": \"あcola\", \"id\": 2691639},\n",
    "    {\"gamertag\": \"Glutonny\", \"id\": 6122},\n",
    "    {\"gamertag\": \"Riddles\", \"id\": 160464},\n",
    "    {\"gamertag\": \"Tea\", \"id\": 695882},\n",
    "    {\"gamertag\": \"Kurama\", \"id\": 175623},\n",
    "]\n",
    "\n",
    "event_df = pd.DataFrame(columns=['gamertag', 'slug', 'startAt'])\n",
    "for player in players:\n",
    "    events = get_all_events(player['id'])\n",
    "    df = make_df(player['gamertag'], events)\n",
    "    event_df = pd.concat([event_df, df]).reset_index(drop=True)\n",
    "\n",
    "event_df.slug = event_df.slug.map(lambda event: event.lstrip('tournament/')) # TODO do upstream\n",
    "event_df"
   ]
  },
  {
   "cell_type": "markdown",
   "id": "31f437bd-06ae-4e46-9031-55f00567dc28",
   "metadata": {},
   "source": [
    "# Save Tournaments CSV"
   ]
  },
  {
   "cell_type": "code",
   "execution_count": null,
   "id": "56d5b0a1-41e0-46ec-971f-ee4c710719c2",
   "metadata": {},
   "outputs": [],
   "source": [
    "event_df.to_csv('tournaments.csv', index=False)"
   ]
  },
  {
   "cell_type": "markdown",
   "id": "ccb9247f-0831-4797-af8e-b4fff4df6a57",
   "metadata": {},
   "source": [
    "# Find Most Common Tournaments"
   ]
  },
  {
   "cell_type": "code",
   "execution_count": null,
   "id": "8b493797-0756-4bb5-9a50-23bdb18aed87",
   "metadata": {},
   "outputs": [],
   "source": [
    "def print_tournaments_by_popularity(df, head):\n",
    "    groups = df.groupby(['slug', 'startAt'])\n",
    "    for (slug, startAt), _ in list(df.groupby(['slug', 'startAt']).size().sort_values(ascending=False).items())[:head]:\n",
    "        group = groups.get_group((slug, startAt))\n",
    "        players = ', '.join(group.gamertag)\n",
    "        print(startAt, slug, '→', players)\n",
    "\n",
    "print_tournaments_by_popularity(event_df, head=20)"
   ]
  },
  {
   "cell_type": "markdown",
   "id": "dd80efdf-713c-4f1f-8d39-670540e1d48e",
   "metadata": {},
   "source": [
    "# Find Tournaments This Year"
   ]
  },
  {
   "cell_type": "code",
   "execution_count": null,
   "id": "8d93babf-bf9f-493f-b117-c0f7f878452f",
   "metadata": {},
   "outputs": [],
   "source": [
    "this_year_df = event_df[event_df.startAt.str.contains('2024')].reset_index(drop=True)\n",
    "\n",
    "print_tournaments_by_popularity(this_year_df, head=10)"
   ]
  }
 ],
 "metadata": {
  "kernelspec": {
   "display_name": "Python 3 (ipykernel)",
   "language": "python",
   "name": "python3"
  },
  "language_info": {
   "codemirror_mode": {
    "name": "ipython",
    "version": 3
   },
   "file_extension": ".py",
   "mimetype": "text/x-python",
   "name": "python",
   "nbconvert_exporter": "python",
   "pygments_lexer": "ipython3",
   "version": "3.9.6"
  }
 },
 "nbformat": 4,
 "nbformat_minor": 5
}

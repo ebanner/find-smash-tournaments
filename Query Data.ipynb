{
 "cells": [
  {
   "cell_type": "code",
   "execution_count": null,
   "id": "4967e551-ced9-4abb-94c5-45dc1ef3695c",
   "metadata": {},
   "outputs": [],
   "source": [
    "import pandas as pd\n",
    "\n",
    "event_df = pd.read_csv('tournaments.csv')\n",
    "event_df"
   ]
  },
  {
   "cell_type": "markdown",
   "id": "2953495f-8c5c-4ca5-92b5-4f613f619306",
   "metadata": {},
   "source": [
    "# Find Most Common Tournaments"
   ]
  },
  {
   "cell_type": "code",
   "execution_count": null,
   "id": "4d8c3353-1dde-456a-9e23-d097c78f24ec",
   "metadata": {},
   "outputs": [],
   "source": [
    "def make_tournament_table(event_df, head):\n",
    "    columns = [\n",
    "        'Date',\n",
    "        \"Tweek\",\n",
    "        \"MkLeo\",\n",
    "        \"Sparg0\",\n",
    "        \"Light\",\n",
    "        \"あcola\",\n",
    "        \"Glutonny\",\n",
    "        \"Riddles\",\n",
    "        \"Tea\",\n",
    "        \"Kurama\",\n",
    "    ]\n",
    "    df = pd.DataFrame(columns=columns)\n",
    "\n",
    "    groups = event_df.groupby(['slug', 'startAt'])\n",
    "    for (slug, startAt), _ in list(event_df.groupby(['slug', 'startAt']).size().sort_values(ascending=False).items())[:head]:\n",
    "        group = groups.get_group((slug, startAt))\n",
    "        \n",
    "        row = {player: '' for player in columns}\n",
    "        for gamertag in group.gamertag:\n",
    "            row[gamertag] = '✓'\n",
    "        row['Date'] = startAt\n",
    "\n",
    "        df.loc[slug] = pd.Series(row, name=slug)\n",
    "        \n",
    "    return df\n",
    "\n",
    "tournament_table = make_tournament_table(event_df, head=20)\n",
    "\n",
    "def color_cells(val):\n",
    "    color = 'lightgreen' if val == '✓' else 'white' if val == 0 else ''\n",
    "    return f'background-color: {color}'\n",
    "\n",
    "tournament_table.style.map(color_cells)"
   ]
  },
  {
   "cell_type": "markdown",
   "id": "d182cd01-5e50-40ee-92fb-80c4c315d50a",
   "metadata": {},
   "source": [
    "# 2024"
   ]
  },
  {
   "cell_type": "code",
   "execution_count": null,
   "id": "46b678d2-9d11-4198-859e-33def171198e",
   "metadata": {},
   "outputs": [],
   "source": [
    "this_year_df = event_df[event_df.startAt.str.contains('2024')].reset_index(drop=True)\n",
    "\n",
    "tournament_table = make_tournament_table(this_year_df, head=20)\n",
    "\n",
    "def color_cells(val):\n",
    "    color = 'lightgreen' if val == '✓' else 'white' if val == 0 else ''\n",
    "    return f'background-color: {color}'\n",
    "\n",
    "tournament_table.style.map(color_cells)"
   ]
  },
  {
   "cell_type": "markdown",
   "id": "ae7c0fb6-dd7d-4678-ada2-1584843f0481",
   "metadata": {},
   "source": [
    "# 2023"
   ]
  },
  {
   "cell_type": "code",
   "execution_count": null,
   "id": "1d3132f2-5032-4192-8f95-607d6d3bb6bb",
   "metadata": {},
   "outputs": [],
   "source": [
    "this_year_df = event_df[event_df.startAt.str.contains('2023')].reset_index(drop=True)\n",
    "\n",
    "tournament_table = make_tournament_table(this_year_df, head=20)\n",
    "\n",
    "def color_cells(val):\n",
    "    color = 'lightgreen' if val == '✓' else 'white' if val == 0 else ''\n",
    "    return f'background-color: {color}'\n",
    "\n",
    "tournament_table.style.map(color_cells)"
   ]
  },
  {
   "cell_type": "markdown",
   "id": "40068782-9641-450b-8dc1-1d226cc768c4",
   "metadata": {},
   "source": [
    "# 2022"
   ]
  },
  {
   "cell_type": "code",
   "execution_count": null,
   "id": "329ad736-99a6-4666-93ae-8942a181b62c",
   "metadata": {},
   "outputs": [],
   "source": [
    "this_year_df = event_df[event_df.startAt.str.contains('2022')].reset_index(drop=True)\n",
    "\n",
    "tournament_table = make_tournament_table(this_year_df, head=20)\n",
    "\n",
    "def color_cells(val):\n",
    "    color = 'lightgreen' if val == '✓' else 'white' if val == 0 else ''\n",
    "    return f'background-color: {color}'\n",
    "\n",
    "tournament_table.style.map(color_cells)"
   ]
  }
 ],
 "metadata": {
  "kernelspec": {
   "display_name": "Python 3 (ipykernel)",
   "language": "python",
   "name": "python3"
  },
  "language_info": {
   "codemirror_mode": {
    "name": "ipython",
    "version": 3
   },
   "file_extension": ".py",
   "mimetype": "text/x-python",
   "name": "python",
   "nbconvert_exporter": "python",
   "pygments_lexer": "ipython3",
   "version": "3.9.6"
  }
 },
 "nbformat": 4,
 "nbformat_minor": 5
}

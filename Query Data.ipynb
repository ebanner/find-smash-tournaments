{
 "cells": [
  {
   "cell_type": "code",
   "execution_count": 1,
   "id": "4967e551-ced9-4abb-94c5-45dc1ef3695c",
   "metadata": {},
   "outputs": [
    {
     "data": {
      "text/html": [
       "<div>\n",
       "<style scoped>\n",
       "    .dataframe tbody tr th:only-of-type {\n",
       "        vertical-align: middle;\n",
       "    }\n",
       "\n",
       "    .dataframe tbody tr th {\n",
       "        vertical-align: top;\n",
       "    }\n",
       "\n",
       "    .dataframe thead th {\n",
       "        text-align: right;\n",
       "    }\n",
       "</style>\n",
       "<table border=\"1\" class=\"dataframe\">\n",
       "  <thead>\n",
       "    <tr style=\"text-align: right;\">\n",
       "      <th></th>\n",
       "      <th>gamertag</th>\n",
       "      <th>slug</th>\n",
       "      <th>startAt</th>\n",
       "    </tr>\n",
       "  </thead>\n",
       "  <tbody>\n",
       "    <tr>\n",
       "      <th>0</th>\n",
       "      <td>Tweek</td>\n",
       "      <td>con-2024-7</td>\n",
       "      <td>2024-05</td>\n",
       "    </tr>\n",
       "    <tr>\n",
       "      <th>1</th>\n",
       "      <td>Tweek</td>\n",
       "      <td>get-on-my-level-x-canadian-fighting-game-champ...</td>\n",
       "      <td>2024-05</td>\n",
       "    </tr>\n",
       "    <tr>\n",
       "      <th>2</th>\n",
       "      <td>Tweek</td>\n",
       "      <td>lvl-up-expo-2024</td>\n",
       "      <td>2024-04</td>\n",
       "    </tr>\n",
       "    <tr>\n",
       "      <th>3</th>\n",
       "      <td>Tweek</td>\n",
       "      <td>kroger-gaming-presents-the-luminosity-invitati...</td>\n",
       "      <td>2024-04</td>\n",
       "    </tr>\n",
       "    <tr>\n",
       "      <th>4</th>\n",
       "      <td>Tweek</td>\n",
       "      <td>kawaii-kon-2024</td>\n",
       "      <td>2024-03</td>\n",
       "    </tr>\n",
       "    <tr>\n",
       "      <th>...</th>\n",
       "      <td>...</td>\n",
       "      <td>...</td>\n",
       "      <td>...</td>\n",
       "    </tr>\n",
       "    <tr>\n",
       "      <th>2221</th>\n",
       "      <td>Tea</td>\n",
       "      <td>bura-34</td>\n",
       "      <td>2018-08</td>\n",
       "    </tr>\n",
       "    <tr>\n",
       "      <th>2222</th>\n",
       "      <td>Tea</td>\n",
       "      <td>sumabato-cyclops-27-1</td>\n",
       "      <td>2018-08</td>\n",
       "    </tr>\n",
       "    <tr>\n",
       "      <th>2223</th>\n",
       "      <td>Tea</td>\n",
       "      <td>sumabato-cyclops-57</td>\n",
       "      <td>2018-07</td>\n",
       "    </tr>\n",
       "    <tr>\n",
       "      <th>2224</th>\n",
       "      <td>Tea</td>\n",
       "      <td>sumabato-cyclops-53</td>\n",
       "      <td>2018-06</td>\n",
       "    </tr>\n",
       "    <tr>\n",
       "      <th>2225</th>\n",
       "      <td>Tea</td>\n",
       "      <td>sumabato-cyclops-50-1</td>\n",
       "      <td>2018-05</td>\n",
       "    </tr>\n",
       "  </tbody>\n",
       "</table>\n",
       "<p>2226 rows × 3 columns</p>\n",
       "</div>"
      ],
      "text/plain": [
       "     gamertag                                               slug  startAt\n",
       "0       Tweek                                         con-2024-7  2024-05\n",
       "1       Tweek  get-on-my-level-x-canadian-fighting-game-champ...  2024-05\n",
       "2       Tweek                                   lvl-up-expo-2024  2024-04\n",
       "3       Tweek  kroger-gaming-presents-the-luminosity-invitati...  2024-04\n",
       "4       Tweek                                    kawaii-kon-2024  2024-03\n",
       "...       ...                                                ...      ...\n",
       "2221      Tea                                            bura-34  2018-08\n",
       "2222      Tea                              sumabato-cyclops-27-1  2018-08\n",
       "2223      Tea                                sumabato-cyclops-57  2018-07\n",
       "2224      Tea                                sumabato-cyclops-53  2018-06\n",
       "2225      Tea                              sumabato-cyclops-50-1  2018-05\n",
       "\n",
       "[2226 rows x 3 columns]"
      ]
     },
     "execution_count": 1,
     "metadata": {},
     "output_type": "execute_result"
    }
   ],
   "source": [
    "import pandas as pd\n",
    "\n",
    "event_df = pd.read_csv('tournaments.csv')\n",
    "event_df"
   ]
  },
  {
   "cell_type": "markdown",
   "id": "2953495f-8c5c-4ca5-92b5-4f613f619306",
   "metadata": {},
   "source": [
    "# Find Most Common Tournaments"
   ]
  },
  {
   "cell_type": "code",
   "execution_count": 2,
   "id": "4d8c3353-1dde-456a-9e23-d097c78f24ec",
   "metadata": {},
   "outputs": [
    {
     "name": "stdout",
     "output_type": "stream",
     "text": [
      "2023-11 port-priority-8-5 → Tweek, MkLeo, Sparg0, Light, あcola, Glutonny, Riddles, Tea\n",
      "2022-10 ludwig-smash-invitational → Tweek, MkLeo, Sparg0, Light, あcola, Glutonny, Riddles, Tea\n",
      "2023-01 genesis-9-1 → Tweek, MkLeo, Sparg0, Light, あcola, Glutonny, Riddles, Tea\n",
      "2022-09 smash-ultimate-summit-5-presented-by-coinbase → Tweek, MkLeo, Sparg0, Light, あcola, Glutonny, Riddles\n",
      "2022-07 double-down-2022 → Tweek, MkLeo, Sparg0, Light, Glutonny, Riddles, Tea\n",
      "2023-05 battle-of-bc-5-5 → Tweek, MkLeo, Sparg0, Light, あcola, Glutonny, Riddles\n",
      "2021-11 instage-2021 → Tweek, MkLeo, Sparg0, Light, Glutonny, Riddles, Tea\n",
      "2022-12 scuffed-world-tour → Tweek, MkLeo, Sparg0, Light, あcola, Glutonny, Riddles\n",
      "2019-12 2gg-kongo-saga → Tweek, MkLeo, Sparg0, Light, Glutonny, Riddles, Tea\n",
      "2024-02 genesis-x → Tweek, MkLeo, Sparg0, Light, Glutonny, Riddles, Tea\n",
      "2022-03 smash-ultimate-summit-4 → Tweek, MkLeo, Sparg0, Light, Glutonny, Tea\n",
      "2019-04 2gg-prime-saga-1 → Tweek, MkLeo, Sparg0, Light, Glutonny, Tea\n",
      "2023-12 watch-the-throne → Tweek, MkLeo, Sparg0, Light, あcola, Glutonny\n",
      "2023-03 smash-ultimate-summit-6 → Tweek, MkLeo, Sparg0, あcola, Glutonny, Riddles\n",
      "2020-02 frostbite-2020 → Tweek, MkLeo, Light, Glutonny, Riddles, Tea\n",
      "2022-03 collision-2022 → Tweek, MkLeo, Sparg0, Light, Glutonny, Riddles\n",
      "2022-08 super-smash-con-2022 → Tweek, MkLeo, Light, あcola, Glutonny, Riddles\n",
      "2023-01 let-s-make-big-moves-2023 → Tweek, MkLeo, Sparg0, Light, Glutonny, Riddles\n",
      "2022-04 genesis-8 → Tweek, MkLeo, Sparg0, Light, Glutonny, Riddles\n",
      "2023-07 smash-factor-x → Tweek, MkLeo, Sparg0, Glutonny, Tea\n"
     ]
    }
   ],
   "source": [
    "def print_tournaments_by_popularity(df, head):\n",
    "    groups = df.groupby(['slug', 'startAt'])\n",
    "    for (slug, startAt), _ in list(df.groupby(['slug', 'startAt']).size().sort_values(ascending=False).items())[:head]:\n",
    "        group = groups.get_group((slug, startAt))\n",
    "        players = ', '.join(group.gamertag)\n",
    "        print(startAt, slug, '→', players)\n",
    "\n",
    "print_tournaments_by_popularity(event_df, head=20)"
   ]
  },
  {
   "cell_type": "markdown",
   "id": "d182cd01-5e50-40ee-92fb-80c4c315d50a",
   "metadata": {},
   "source": [
    "# Find Tournaments This Year"
   ]
  },
  {
   "cell_type": "code",
   "execution_count": 3,
   "id": "46b678d2-9d11-4198-859e-33def171198e",
   "metadata": {},
   "outputs": [
    {
     "name": "stdout",
     "output_type": "stream",
     "text": [
      "2024-02 genesis-x → Tweek, MkLeo, Sparg0, Light, Glutonny, Riddles, Tea\n",
      "2024-05 12-kagaribi-12 → MkLeo, Sparg0, あcola, Glutonny, Tea\n",
      "2024-01 luminosity-makes-big-moves-2024 → Tweek, MkLeo, Sparg0, Light, Riddles\n",
      "2024-05 delta-8 → MkLeo, Sparg0, あcola, Glutonny, Tea\n",
      "2024-03 collision-2024-6 → Tweek, MkLeo, Sparg0, Light, Riddles\n",
      "2024-03 battle-of-bc-6-7 → MkLeo, Sparg0, Glutonny, Riddles\n",
      "2024-05 get-on-my-level-x-canadian-fighting-game-championships → Tweek, MkLeo, Light, Riddles\n",
      "2024-04 kroger-gaming-presents-the-luminosity-invitational → Tweek, MkLeo, Light, Riddles\n",
      "2024-01 he-coinbox-89-steve-banned → MkLeo, Sparg0, Riddles\n",
      "2024-03 he-coinbox-94-steve-unbanned → Tweek, Sparg0, Riddles\n"
     ]
    }
   ],
   "source": [
    "this_year_df = event_df[event_df.startAt.str.contains('2024')].reset_index(drop=True)\n",
    "\n",
    "print_tournaments_by_popularity(this_year_df, head=10)"
   ]
  }
 ],
 "metadata": {
  "kernelspec": {
   "display_name": "Python 3 (ipykernel)",
   "language": "python",
   "name": "python3"
  },
  "language_info": {
   "codemirror_mode": {
    "name": "ipython",
    "version": 3
   },
   "file_extension": ".py",
   "mimetype": "text/x-python",
   "name": "python",
   "nbconvert_exporter": "python",
   "pygments_lexer": "ipython3",
   "version": "3.9.6"
  }
 },
 "nbformat": 4,
 "nbformat_minor": 5
}
